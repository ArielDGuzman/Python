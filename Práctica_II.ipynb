{
  "cells": [
    {
      "cell_type": "markdown",
      "metadata": {
        "id": "view-in-github",
        "colab_type": "text"
      },
      "source": [
        "<a href=\"https://colab.research.google.com/github/ArielDGuzman/Python/blob/main/Pra%CC%81ctica_II.ipynb\" target=\"_parent\"><img src=\"https://colab.research.google.com/assets/colab-badge.svg\" alt=\"Open In Colab\"/></a>"
      ]
    },
    {
      "cell_type": "markdown",
      "id": "a19c646f",
      "metadata": {
        "id": "a19c646f"
      },
      "source": [
        "# Práctica II\n",
        "\n",
        "\n",
        "### Temas:\n",
        "* print\n",
        "* input\n",
        "* if\n",
        "* if ... else ...\n",
        "* if ... elif ... else ...\n",
        "\n",
        "### Escriba código Python que solucione los siguientes casos:"
      ]
    },
    {
      "cell_type": "markdown",
      "id": "421b4dd5",
      "metadata": {
        "id": "421b4dd5"
      },
      "source": [
        "#### 1 - Su sobrino necesita un programa que solicite dos números y evalúe si el primero es mayor que el segundo. El resultado debe verse en la consola.\n"
      ]
    },
    {
      "cell_type": "code",
      "execution_count": null,
      "id": "b3114345",
      "metadata": {
        "id": "b3114345"
      },
      "outputs": [],
      "source": [
        "# Escribe tu solución aquí\n",
        "No1 = int(input('Ingrese un número: '))\n",
        "No2 = int(input('Ingrese un número: '))\n",
        "if No1 > No2:\n",
        "    print(No1, 'es mayor que', No2)\n",
        "else :\n",
        "    print(No1, 'no es mayor que', No2)\n"
      ]
    },
    {
      "cell_type": "markdown",
      "id": "8ab3e780",
      "metadata": {
        "id": "8ab3e780"
      },
      "source": [
        "#### 2 - Ana contrató una maquina expendedora de cerveza en su mercado. Favor hacer un script en python que solicite al usuario el número de su edad y que muestre un mensaje en consola diciendo si es mayor de edad o menor de edad y si puede comprar la bebida."
      ]
    },
    {
      "cell_type": "code",
      "execution_count": 1,
      "id": "1842fe84",
      "metadata": {
        "id": "1842fe84",
        "colab": {
          "base_uri": "https://localhost:8080/"
        },
        "outputId": "2f782900-0614-44b5-a9d8-e73b7fdaa9b7"
      },
      "outputs": [
        {
          "output_type": "stream",
          "name": "stdout",
          "text": [
            "Ingrese Edad: 17\n",
            "Es menor de edad, no puede comprar la bebida\n"
          ]
        }
      ],
      "source": [
        "# Escribe tu solución aquí\n",
        "\n",
        "Edad = int(input('Ingrese Edad: '))\n",
        "if Edad >= 18:\n",
        "    print('Es mayor de edad, puede comprar la bebida')\n",
        "else :\n",
        "    print('Es menor de edad, no puede comprar la bebida')\n",
        "\n"
      ]
    },
    {
      "cell_type": "markdown",
      "id": "fa7cbebe",
      "metadata": {
        "id": "fa7cbebe"
      },
      "source": [
        "\n",
        "#### 3 - Carlos va a ir al cajero a hacer un retiro al cajero. en su cuenta tiene un balance de 1584.23. El cajero solo entrega billetes de 100. haga un script en python que solicite el monto del retiro. si el monto del retiro es mayor que el monto disponible, debe decirle por consola que no tiene fondos suficientes para la transacción. Si ingresa una cantidad que no se puede entregar con billetes de 100 (ej. 125, 1015, 150, 90) debe decirle que el monto solicitado no puede ser dispensado. Si tiene fondos y marca un monto válido, debe imprimir en consola la cantidad de billetes de 100 que se dispensaran.\n",
        "\n"
      ]
    },
    {
      "cell_type": "code",
      "execution_count": 19,
      "id": "4f042e7d",
      "metadata": {
        "id": "4f042e7d",
        "colab": {
          "base_uri": "https://localhost:8080/"
        },
        "outputId": "e1c565bd-b1d4-400f-b6fb-4557930feb7c"
      },
      "outputs": [
        {
          "name": "stdout",
          "output_type": "stream",
          "text": [
            "Ingrese monto: 1500\n"
          ]
        }
      ],
      "source": [
        "# Escribe tu solución aquí\n",
        "\n",
        "monto = float(input('Ingrese monto: '))\n",
        "if monto > 1584.23 :\n",
        "    print('El monto solicitado no puede ser dispensado cantidad insuficiente')\n",
        "elif monto % 100 != 0 :\n",
        "    print('El monto solicitado no puede ser dispensado, este cajero solo tiene billetes de 100')\n",
        "elif monto <= 1584.23 and monto % 100 != 0 :\n",
        "  print('Monto Dispendo')\n",
        ""
      ]
    },
    {
      "cell_type": "code",
      "source": [],
      "metadata": {
        "id": "GOKeJyjQ-V5U"
      },
      "id": "GOKeJyjQ-V5U",
      "execution_count": null,
      "outputs": []
    },
    {
      "cell_type": "markdown",
      "id": "258923c0",
      "metadata": {
        "id": "258923c0"
      },
      "source": [
        "#### 4 - Luis fue contratado como programador Jr. en python con un salario de 55,000 pesos. Haga un script en python con el que pueda calcular el impuesto sobre la renta de su salario y cualquier otro ingresado por teclado, que le descontarán mensualmente. (ver tabla ISR DGII)\n"
      ]
    },
    {
      "cell_type": "code",
      "execution_count": 28,
      "id": "ae6e4a00",
      "metadata": {
        "id": "ae6e4a00",
        "colab": {
          "base_uri": "https://localhost:8080/"
        },
        "outputId": "ee60515b-f947-46b6-a848-e6479e3ef09c"
      },
      "outputs": [
        {
          "output_type": "stream",
          "name": "stdout",
          "text": [
            "Ingrese Salario: 80000\n",
            "Tu salaria entra en el top3 de impuestos sobre la renta:\n",
            "23219.25\n"
          ]
        }
      ],
      "source": [
        "# Escribe tu solución aquí\n",
        "\n",
        "#Poner salario\n",
        "Salario = float(input('Ingrese Salario: '))\n",
        "salarioanual = Salario * 12\n",
        "\n",
        "\n",
        "#Tabla de impuestos\n",
        "\n",
        "Case1 = 416220\n",
        "Case2 = 624329\n",
        "case3 = 867123\n",
        "\n",
        "#Procesos\n",
        "\n",
        "if salarioanual <= 416220 :\n",
        "    print('No paga impuestos')\n",
        "\n",
        "elif salarioanual > Case1 and salarioanual <= Case2:\n",
        "  excedente = salarioanual - Case1\n",
        "  kk1 = excedente * 0.15\n",
        "  print('Tu salaria entra en el top1 de impuestos sobre la renta:')\n",
        "  print(kk1)\n",
        "\n",
        "elif salarioanual > Case2 and salarioanual <= case3:\n",
        "  excedente = salarioanual - Case2\n",
        "  kk2 = excedente * 0.20\n",
        "  print('Tu salaria entra en el top2 de impuestos sobre la renta:')\n",
        "  print(kk2)\n",
        "\n",
        "elif salarioanual > case3:\n",
        "    excedente = salarioanual - case3\n",
        "    kk3 = excedente * 0.25\n",
        "    print('Tu salaria entra en el top3 de impuestos sobre la renta:')\n",
        "    print(kk3)\n",
        "\n",
        ""
      ]
    },
    {
      "cell_type": "markdown",
      "id": "e1f790ea",
      "metadata": {
        "id": "e1f790ea"
      },
      "source": [
        "\n",
        "#### 5 - Maria fue a solicitar un préstamo de 100,000 pesos al banco BHD, y lo quiere a 12 meses. El banco le presta a una tasa de interés anual del 16.33%. Haga un script en python que le permita a Maria conocer el monto de la cuota a pagar. (Usar la formula de amortización francés, y comparar el resultado con la calculadora de prestamos de ProUsuario que debe dar igual)"
      ]
    },
    {
      "cell_type": "code",
      "execution_count": 33,
      "id": "0f9c15d0",
      "metadata": {
        "id": "0f9c15d0",
        "colab": {
          "base_uri": "https://localhost:8080/"
        },
        "outputId": "4873ea2c-b521-40e9-94d4-a7cb78af6b54"
      },
      "outputs": [
        {
          "output_type": "stream",
          "name": "stdout",
          "text": [
            "9694.166666666668\n"
          ]
        }
      ],
      "source": [
        "# Escribe tu solución aquí\n",
        "monto = 100000\n",
        "cuotas = 12\n",
        "interes = 16.33\n",
        "\n",
        "\n",
        "\n",
        "InteresMensual = (monto / cuotas)\n",
        "pp = InteresMensual * (1 + (interes / 100))\n",
        "\n",
        "print(pp)\n"
      ]
    },
    {
      "cell_type": "markdown",
      "source": [
        "6 - Juan se ha mudado a un pais donde la temperatura se mide en Celsius y necesita un programa en python que le diga como está el clima de acuerdo a los grados celcius que dicen en las noticias.\n",
        "El programa debe pedir una temperatura en Celsius.\n",
        "\n",
        "Si es mayor a 30, imprime “Hace calor”.\n",
        "\n",
        "Si es menor a 10, imprime “Hace frío”.\n",
        "\n",
        "En otro caso, “Clima agradable”."
      ],
      "metadata": {
        "id": "pIUIU1eCwAnl"
      },
      "id": "pIUIU1eCwAnl"
    },
    {
      "cell_type": "code",
      "source": [
        "# Escribe tu solucion aquí\n",
        "temperatura = int(input('Ingrese temperatura: '))\n",
        "if temperatura > 30 :\n",
        "    print('Hace Calor')\n",
        "elif temperatura < 10 :\n",
        "    print('Hace frio')\n",
        "else :\n",
        "  print('Clima agradable')"
      ],
      "metadata": {
        "id": "0dPdb8cqwcu-",
        "colab": {
          "base_uri": "https://localhost:8080/"
        },
        "outputId": "a8ffee2f-209b-411e-9e1b-7f3e70c06908"
      },
      "id": "0dPdb8cqwcu-",
      "execution_count": 35,
      "outputs": [
        {
          "output_type": "stream",
          "name": "stdout",
          "text": [
            "Ingrese temperatura: 15\n",
            "Clima agradable\n"
          ]
        }
      ]
    }
  ],
  "metadata": {
    "kernelspec": {
      "display_name": "Python 3 (ipykernel)",
      "language": "python",
      "name": "python3"
    },
    "language_info": {
      "codemirror_mode": {
        "name": "ipython",
        "version": 3
      },
      "file_extension": ".py",
      "mimetype": "text/x-python",
      "name": "python",
      "nbconvert_exporter": "python",
      "pygments_lexer": "ipython3",
      "version": "3.11.7"
    },
    "colab": {
      "provenance": [],
      "include_colab_link": true
    }
  },
  "nbformat": 4,
  "nbformat_minor": 5
}