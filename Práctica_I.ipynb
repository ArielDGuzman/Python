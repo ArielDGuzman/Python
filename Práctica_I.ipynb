{
  "cells": [
    {
      "cell_type": "markdown",
      "metadata": {
        "id": "view-in-github",
        "colab_type": "text"
      },
      "source": [
        "<a href=\"https://colab.research.google.com/github/ArielDGuzman/Python/blob/main/Pra%CC%81ctica_I.ipynb\" target=\"_parent\"><img src=\"https://colab.research.google.com/assets/colab-badge.svg\" alt=\"Open In Colab\"/></a>"
      ]
    },
    {
      "cell_type": "markdown",
      "id": "6d0460f2",
      "metadata": {
        "id": "6d0460f2"
      },
      "source": [
        "# Python desde cero a avanzado\n",
        "\n",
        "## Práctica 1\n"
      ]
    },
    {
      "cell_type": "markdown",
      "id": "e0794ddd",
      "metadata": {
        "id": "e0794ddd"
      },
      "source": [
        "### Escribe instruciones en Python para cada caso:\n",
        "\n",
        "\n",
        "#### 1) Juan hizo una compra en el supermercado, el valor de la compra sin impuestos fue de RD$16,760.74. Haga un script en python que calcule el ITBIS, un descuento de 5% y el total a pagar.\n"
      ]
    },
    {
      "cell_type": "code",
      "execution_count": 7,
      "id": "5d61b788",
      "metadata": {
        "id": "5d61b788",
        "colab": {
          "base_uri": "https://localhost:8080/"
        },
        "outputId": "92ff94ee-6a40-430f-aa9a-f9002f9b9ec2"
      },
      "outputs": [
        {
          "output_type": "stream",
          "name": "stdout",
          "text": [
            "3016.9332000000004\n",
            "838.0370000000001\n",
            "18939.6362\n"
          ]
        }
      ],
      "source": [
        "#Escriba aquí su solución\n",
        "monto = 16760.74\n",
        "itbis = monto * 0.18\n",
        "print(itbis)\n",
        "descuento = monto * 0.05\n",
        "print(descuento)\n",
        "total = monto - descuento + itbis\n",
        "print(total)\n",
        "\n"
      ]
    },
    {
      "cell_type": "markdown",
      "id": "6797f68d",
      "metadata": {
        "id": "6797f68d"
      },
      "source": [
        "#### 2) Modifique el ejercicio anterior para que el valor de la compra sea leído desde el teclado"
      ]
    },
    {
      "cell_type": "code",
      "execution_count": 4,
      "id": "a2e08db8",
      "metadata": {
        "id": "a2e08db8",
        "colab": {
          "base_uri": "https://localhost:8080/"
        },
        "outputId": "7ad54d36-73b0-41fa-c2f6-9fbc44e0499c"
      },
      "outputs": [
        {
          "output_type": "stream",
          "name": "stdout",
          "text": [
            "Ingrese el monto de la compra: 45000\n",
            "50850.0\n"
          ]
        }
      ],
      "source": [
        "# Escriba su solución aquí\n",
        "\n",
        "\n",
        "monto = int(input(\"Ingrese el monto de la compra: \"))\n",
        "itbis = monto * 0.18\n",
        "print(itbis)\n",
        "descuento = monto * 0.05\n",
        "print(descuento)\n",
        "total = monto - descuento + itbis\n",
        "print(total)\n",
        "\n",
        "\n"
      ]
    },
    {
      "cell_type": "markdown",
      "id": "489231f8",
      "metadata": {
        "id": "489231f8"
      },
      "source": [
        "#### 3) Un maestro constructor necesita un programa que le permita convertir la medida de 150 pies a metros.\n"
      ]
    },
    {
      "cell_type": "code",
      "execution_count": 8,
      "id": "0091dea0",
      "metadata": {
        "id": "0091dea0",
        "colab": {
          "base_uri": "https://localhost:8080/"
        },
        "outputId": "047bf198-8561-455d-b123-fbca3f0a0b09"
      },
      "outputs": [
        {
          "output_type": "stream",
          "name": "stdout",
          "text": [
            "45.72\n"
          ]
        }
      ],
      "source": [
        "# Escriba su solución aquí\n",
        "medida = 150\n",
        "metros = medida * 0.3048\n",
        "print(metros)\n",
        "\n"
      ]
    },
    {
      "cell_type": "markdown",
      "id": "c6d16dae",
      "metadata": {
        "id": "c6d16dae"
      },
      "source": [
        "#### 4) Una cajera del banco popular necesita un programa que le permita convertir DOP a USD. El programa debe solicitar el monto por teclado. Haga una prueba convirtiendo DOP $129,867.83 a Dólares. Debe tomar en cuenta que la tasa de cambio es 59.30\n"
      ]
    },
    {
      "cell_type": "code",
      "execution_count": 11,
      "id": "81301fad",
      "metadata": {
        "id": "81301fad",
        "colab": {
          "base_uri": "https://localhost:8080/"
        },
        "outputId": "5ea5f465-f1a6-4c48-c972-5aefac53bfa2"
      },
      "outputs": [
        {
          "output_type": "stream",
          "name": "stdout",
          "text": [
            "Ingrese el monto en DOP: 129867.83\n",
            "2190.0139966273186\n"
          ]
        }
      ],
      "source": [
        "# Escriba su solución aquí\n",
        "\n",
        "peso = float(input('Ingrese el monto en DOP: '))\n",
        "dolar = peso / 59.30\n",
        "print(dolar)\n",
        "\n",
        "\n"
      ]
    },
    {
      "cell_type": "markdown",
      "id": "7f7319eb",
      "metadata": {
        "id": "7f7319eb"
      },
      "source": [
        "#### 5) Tu sobrino necesita calcular el area de un circulo para su clase de matemáticas. Haz un script que le permita hacer este cálculo solicitando el ingreso del diámetro del radio del circulo a medir, desde el teclado (la formula es la constante PI multiplicada por el diámetro del radio al cuadrado)"
      ]
    },
    {
      "cell_type": "code",
      "execution_count": 12,
      "id": "f5535916",
      "metadata": {
        "id": "f5535916",
        "colab": {
          "base_uri": "https://localhost:8080/"
        },
        "outputId": "01d3ada8-c59b-45cd-fef0-190dda8cce42"
      },
      "outputs": [
        {
          "output_type": "stream",
          "name": "stdout",
          "text": [
            "Ingrese el diámetro del circulo: 15\n",
            "706.5\n"
          ]
        }
      ],
      "source": [
        "# Escriba su solución aquí\n",
        "circulo = float(input('Ingrese el diámetro del circulo: '))\n",
        "area = 3.14 * circulo ** 2\n",
        "print(area)\n",
        "\n",
        "\n"
      ]
    },
    {
      "cell_type": "markdown",
      "id": "35791007",
      "metadata": {
        "id": "35791007"
      },
      "source": [
        "#### 6) Haga un programa capas de sumar dos numeros cuales quiera ingresados desde el teclado\n"
      ]
    },
    {
      "cell_type": "code",
      "execution_count": 13,
      "id": "9da8ef81",
      "metadata": {
        "id": "9da8ef81",
        "colab": {
          "base_uri": "https://localhost:8080/"
        },
        "outputId": "1f10b04c-0c8c-4bd4-8ca8-f01e4c7b4e11"
      },
      "outputs": [
        {
          "output_type": "stream",
          "name": "stdout",
          "text": [
            "Ingrese el diámetro del circulo: 2\n",
            "Ingrese el diámetro del circulo: 5\n",
            "7.0\n"
          ]
        }
      ],
      "source": [
        "# Escriba su solución aquí\n",
        "\n",
        "No1 = float(input('Ingrese el diámetro del circulo: '))\n",
        "No2 = float(input('Ingrese el diámetro del circulo: '))\n",
        "suma = No1 + No2\n",
        "print(suma)\n",
        "\n"
      ]
    },
    {
      "cell_type": "markdown",
      "source": [
        "7) Convertidor de temperatura: Crea un programa que convierta entre Celsius y Fahrenheit. Pide al usuario que ingrese la temperatura y la unidad (C o F). Realiza la conversión y muestra el resultado"
      ],
      "metadata": {
        "id": "ek8FjES-gqRb"
      },
      "id": "ek8FjES-gqRb"
    },
    {
      "cell_type": "code",
      "source": [
        "# Escriba su solución aquí\n",
        "\n",
        "Temperatura = float(input('Ingrese la temperatura: '))\n",
        "print(Temperatura)\n",
        "Celsiur = (Temperatura - 32) * 5/9\n",
        "print(Celsiur)\n",
        "Frenheit =  (Temperatura * 9/5) + 32\n",
        "print(Frenheit )\n",
        "\n",
        "\n"
      ],
      "metadata": {
        "id": "U33W59SBguOk",
        "colab": {
          "base_uri": "https://localhost:8080/"
        },
        "outputId": "19ec4d77-522c-4fcd-8a11-38e6dc9dcb65"
      },
      "id": "U33W59SBguOk",
      "execution_count": 16,
      "outputs": [
        {
          "output_type": "stream",
          "name": "stdout",
          "text": [
            "Ingrese la temperatura: 30\n",
            "30.0\n",
            "-1.1111111111111112\n",
            "86.0\n"
          ]
        }
      ]
    },
    {
      "cell_type": "markdown",
      "source": [
        "8) Escriba las instrucciones de un programa que evalúe si un número es par o impar y muestre el mensaje \"es par\" o \"impar\" segun correponda"
      ],
      "metadata": {
        "id": "SH9sqln0juVU"
      },
      "id": "SH9sqln0juVU"
    },
    {
      "cell_type": "code",
      "source": [
        "# Escriba su solución aquí\n",
        "\n",
        "numero = int(input('Ingrese un número: '))\n",
        "if numero % 2 == 0:\n",
        "    print('El número es par')\n",
        "else:\n",
        "    print('El número es impar')"
      ],
      "metadata": {
        "id": "yIq2cC2Rj68p",
        "colab": {
          "base_uri": "https://localhost:8080/"
        },
        "outputId": "b69b5360-9747-4a5b-908b-289567bdcd79"
      },
      "id": "yIq2cC2Rj68p",
      "execution_count": 17,
      "outputs": [
        {
          "output_type": "stream",
          "name": "stdout",
          "text": [
            "Ingrese un número: 7\n",
            "El número es impar\n"
          ]
        }
      ]
    },
    {
      "cell_type": "markdown",
      "source": [
        "9) Escriba las instrucciones para un programa que solicite al usuario dos numero y evalúe si el primero es mayor que el segundo. El resultado debe verse, por ejemplo: 7 no es mayor que 8"
      ],
      "metadata": {
        "id": "-bpV7FVVkdLp"
      },
      "id": "-bpV7FVVkdLp"
    },
    {
      "cell_type": "code",
      "source": [
        "# Escriba su solución aquí\n",
        "No1 = int(input('Ingrese un número: '))\n",
        "No2 = int(input('Ingrese un número: '))\n",
        "if No1 > No2:\n",
        "    print(No1, 'es mayor que', No2)\n",
        "else :\n",
        "    print(No1, 'no es mayor que', No2)\n"
      ],
      "metadata": {
        "id": "2iTueBFrk1ET",
        "colab": {
          "base_uri": "https://localhost:8080/"
        },
        "outputId": "a1ecce63-9293-4e58-d733-75ae4325a7a8"
      },
      "id": "2iTueBFrk1ET",
      "execution_count": 19,
      "outputs": [
        {
          "output_type": "stream",
          "name": "stdout",
          "text": [
            "Ingrese un número: 8\n",
            "Ingrese un número: 10\n",
            "8 no es mayor que 10\n"
          ]
        }
      ]
    },
    {
      "cell_type": "markdown",
      "source": [
        "10) Escriba las instrucciones necesarias para solicite monto, cantidad de cuotas, y porcentaje de interés anual de un préstamo y\n",
        "calcule la cuota mensual. (Amortizar mediante el sistema francés)"
      ],
      "metadata": {
        "id": "CypR4pTOk4dd"
      },
      "id": "CypR4pTOk4dd"
    },
    {
      "cell_type": "code",
      "source": [
        "# Escriba su solución aquí\n",
        "\n",
        "monto = float(input('Ingrese el monto: '))\n",
        "cuotas = int(input('Ingrese la cantidad de cuotas: '))\n",
        "interes = float(input('Ingrese el porcentaje de interés anual: '))\n",
        "print(interes)\n",
        "\n",
        "\n",
        "InteresMensual = (monto / cuotas) / interes\n",
        "print(InteresMensual)\n",
        "cuotamensual = (monto / cuotas) + InteresMensual\n",
        "print(cuotamensual)\n"
      ],
      "metadata": {
        "id": "EMtoZA6nlILC",
        "colab": {
          "base_uri": "https://localhost:8080/"
        },
        "outputId": "34774bac-d615-4070-9ece-f6c305a82deb"
      },
      "id": "EMtoZA6nlILC",
      "execution_count": 23,
      "outputs": [
        {
          "output_type": "stream",
          "name": "stdout",
          "text": [
            "Ingrese el monto: 50000\n",
            "Ingrese la cantidad de cuotas: 12\n",
            "Ingrese el porcentaje de interés anual: 23.5\n",
            "23.5\n",
            "177.3049645390071\n",
            "4343.971631205674\n"
          ]
        }
      ]
    }
  ],
  "metadata": {
    "kernelspec": {
      "display_name": "Python 3 (ipykernel)",
      "language": "python",
      "name": "python3"
    },
    "language_info": {
      "codemirror_mode": {
        "name": "ipython",
        "version": 3
      },
      "file_extension": ".py",
      "mimetype": "text/x-python",
      "name": "python",
      "nbconvert_exporter": "python",
      "pygments_lexer": "ipython3",
      "version": "3.11.7"
    },
    "colab": {
      "provenance": [],
      "include_colab_link": true
    }
  },
  "nbformat": 4,
  "nbformat_minor": 5
}